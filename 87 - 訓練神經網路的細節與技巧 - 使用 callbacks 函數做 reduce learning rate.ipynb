{
  "cells": [
    {
      "cell_type": "markdown",
      "metadata": {
        "id": "dZ-ILedbotQ0"
      },
      "source": [
        "## Work\n",
        "1. 請改變 reduce_lr 的 patience 和 factor 並比較不同設定下，對訓練/驗證集的影響\n",
        "2. 請將 optimizer 換成 Adam、RMSprop 搭配 reduce_lr 並比較訓練結果"
      ]
    },
    {
      "cell_type": "code",
      "execution_count": 1,
      "metadata": {
        "id": "3xiv0jp2otQ2"
      },
      "outputs": [],
      "source": [
        "import os\n",
        "import keras\n",
        "import tensorflow\n",
        "\n",
        "# Disable GPU\n",
        "os.environ[\"CUDA_VISIBLE_DEVICES\"] = \"\""
      ]
    },
    {
      "cell_type": "code",
      "execution_count": 2,
      "metadata": {
        "colab": {
          "base_uri": "https://localhost:8080/"
        },
        "id": "1p5zd1yrotQ3",
        "outputId": "e50c2fc2-8979-4d57-8f9c-9e3bc9360bf5"
      },
      "outputs": [
        {
          "output_type": "stream",
          "name": "stdout",
          "text": [
            "Downloading data from https://www.cs.toronto.edu/~kriz/cifar-10-python.tar.gz\n",
            "170500096/170498071 [==============================] - 2s 0us/step\n",
            "170508288/170498071 [==============================] - 2s 0us/step\n"
          ]
        }
      ],
      "source": [
        "train, test = tensorflow.keras.datasets.cifar10.load_data()"
      ]
    },
    {
      "cell_type": "code",
      "execution_count": 3,
      "metadata": {
        "id": "9pK04aenotQ3"
      },
      "outputs": [],
      "source": [
        "## 資料前處理\n",
        "def preproc_x(x, flatten=True):\n",
        "    x = x / 255.\n",
        "    if flatten:\n",
        "        x = x.reshape((len(x), -1))\n",
        "    return x\n",
        "\n",
        "def preproc_y(y, num_classes=10):\n",
        "    if y.shape[-1] == 1:\n",
        "        y = keras.utils.np_utils.to_categorical(y, num_classes)\n",
        "    return y    "
      ]
    },
    {
      "cell_type": "code",
      "execution_count": 4,
      "metadata": {
        "id": "bEpuNlQlotQ4"
      },
      "outputs": [],
      "source": [
        "x_train, y_train = train\n",
        "x_test, y_test = test\n",
        "\n",
        "# Preproc the inputs\n",
        "x_train = preproc_x(x_train)\n",
        "x_test = preproc_x(x_test)\n",
        "\n",
        "# Preprc the outputs\n",
        "y_train = preproc_y(y_train)\n",
        "y_test = preproc_y(y_test)"
      ]
    },
    {
      "cell_type": "code",
      "execution_count": 5,
      "metadata": {
        "id": "jpODap2fotQ4"
      },
      "outputs": [],
      "source": [
        "from keras.layers import BatchNormalization\n",
        "\n",
        "\"\"\"\n",
        "建立神經網路，並加入 BN layer\n",
        "\"\"\"\n",
        "def build_mlp(input_shape, output_units=10, num_neurons=[512, 256, 128]):\n",
        "    input_layer = keras.layers.Input(input_shape)\n",
        "    \n",
        "    for i, n_units in enumerate(num_neurons):\n",
        "        if i == 0:\n",
        "            x = keras.layers.Dense(units=n_units, \n",
        "                                   activation=\"relu\", \n",
        "                                   name=\"hidden_layer\"+str(i+1))(input_layer)\n",
        "            x = BatchNormalization()(x)\n",
        "        else:\n",
        "            x = keras.layers.Dense(units=n_units, \n",
        "                                   activation=\"relu\", \n",
        "                                   name=\"hidden_layer\"+str(i+1))(x)\n",
        "            x = BatchNormalization()(x)\n",
        "    \n",
        "    out = keras.layers.Dense(units=output_units, activation=\"softmax\", name=\"output\")(x)\n",
        "    \n",
        "    model = keras.models.Model(inputs=[input_layer], outputs=[out])\n",
        "    return model"
      ]
    },
    {
      "cell_type": "code",
      "execution_count": 6,
      "metadata": {
        "id": "TZ-JxLn5otQ4"
      },
      "outputs": [],
      "source": [
        "LEARNING_RATE = 1e-3\n",
        "EPOCHS = 10 # IF you feel too run to finish, try to make it smaller\n",
        "BATCH_SIZE = 1024 "
      ]
    },
    {
      "cell_type": "code",
      "execution_count": 7,
      "metadata": {
        "colab": {
          "base_uri": "https://localhost:8080/"
        },
        "id": "8w2JEiyaotQ4",
        "outputId": "986a652b-eca1-4b4a-e137-df4d8e4b90c5"
      },
      "outputs": [
        {
          "output_type": "stream",
          "name": "stderr",
          "text": [
            "/usr/local/lib/python3.7/dist-packages/keras/optimizer_v2/gradient_descent.py:102: UserWarning: The `lr` argument is deprecated, use `learning_rate` instead.\n",
            "  super(SGD, self).__init__(name, **kwargs)\n",
            "/usr/local/lib/python3.7/dist-packages/keras/optimizer_v2/adam.py:105: UserWarning: The `lr` argument is deprecated, use `learning_rate` instead.\n",
            "  super(Adam, self).__init__(name, **kwargs)\n",
            "/usr/local/lib/python3.7/dist-packages/keras/optimizer_v2/rmsprop.py:130: UserWarning: The `lr` argument is deprecated, use `learning_rate` instead.\n",
            "  super(RMSprop, self).__init__(name, **kwargs)\n"
          ]
        }
      ],
      "source": [
        "# 載入 Callbacks\n",
        "from keras.callbacks import ReduceLROnPlateau\n",
        "\n",
        "optimizer_set = [tensorflow.keras.optimizers.SGD(lr=LEARNING_RATE, nesterov=True, momentum=0.95),\n",
        "                 tensorflow.keras.optimizers.Adam(lr=LEARNING_RATE),\n",
        "                 tensorflow.keras.optimizers.RMSprop(lr=LEARNING_RATE)]\n",
        "\n",
        "\"\"\"Code Here\n",
        "建立實驗的比較組合\n",
        "\"\"\"\n",
        "reduce_lr_factor = [0.2, 0.5]\n",
        "redice_lr_patient = [5, 10]"
      ]
    },
    {
      "cell_type": "code",
      "execution_count": 8,
      "metadata": {
        "scrolled": true,
        "colab": {
          "base_uri": "https://localhost:8080/",
          "height": 1000
        },
        "id": "ukmc1u2QotQ5",
        "outputId": "cc450cbf-c3b1-44b3-fe2c-227e41368bae"
      },
      "outputs": [
        {
          "output_type": "stream",
          "name": "stdout",
          "text": [
            "Numbers of exp: 0, reduce_factor: 0.20, reduce_patient: 5\n",
            "Model: \"model\"\n",
            "_________________________________________________________________\n",
            " Layer (type)                Output Shape              Param #   \n",
            "=================================================================\n",
            " input_1 (InputLayer)        [(None, 3072)]            0         \n",
            "                                                                 \n",
            " hidden_layer1 (Dense)       (None, 512)               1573376   \n",
            "                                                                 \n",
            " batch_normalization (BatchN  (None, 512)              2048      \n",
            " ormalization)                                                   \n",
            "                                                                 \n",
            " hidden_layer2 (Dense)       (None, 256)               131328    \n",
            "                                                                 \n",
            " batch_normalization_1 (Batc  (None, 256)              1024      \n",
            " hNormalization)                                                 \n",
            "                                                                 \n",
            " hidden_layer3 (Dense)       (None, 128)               32896     \n",
            "                                                                 \n",
            " batch_normalization_2 (Batc  (None, 128)              512       \n",
            " hNormalization)                                                 \n",
            "                                                                 \n",
            " output (Dense)              (None, 10)                1290      \n",
            "                                                                 \n",
            "=================================================================\n",
            "Total params: 1,742,474\n",
            "Trainable params: 1,740,682\n",
            "Non-trainable params: 1,792\n",
            "_________________________________________________________________\n",
            "Epoch 1/10\n",
            "49/49 [==============================] - 10s 173ms/step - loss: 2.1996 - accuracy: 0.2739 - val_loss: 2.0805 - val_accuracy: 0.2537 - lr: 0.0010\n",
            "Epoch 2/10\n",
            "49/49 [==============================] - 8s 167ms/step - loss: 1.7380 - accuracy: 0.3947 - val_loss: 1.9346 - val_accuracy: 0.3298 - lr: 0.0010\n",
            "Epoch 3/10\n",
            "49/49 [==============================] - 8s 167ms/step - loss: 1.6093 - accuracy: 0.4378 - val_loss: 1.8115 - val_accuracy: 0.3778 - lr: 0.0010\n",
            "Epoch 4/10\n",
            "49/49 [==============================] - 8s 167ms/step - loss: 1.5356 - accuracy: 0.4627 - val_loss: 1.7175 - val_accuracy: 0.4094 - lr: 0.0010\n",
            "Epoch 5/10\n",
            "49/49 [==============================] - 8s 166ms/step - loss: 1.4779 - accuracy: 0.4834 - val_loss: 1.6412 - val_accuracy: 0.4346 - lr: 0.0010\n",
            "Epoch 6/10\n",
            "49/49 [==============================] - 8s 166ms/step - loss: 1.4309 - accuracy: 0.5001 - val_loss: 1.5836 - val_accuracy: 0.4485 - lr: 0.0010\n",
            "Epoch 7/10\n",
            "49/49 [==============================] - 8s 167ms/step - loss: 1.3922 - accuracy: 0.5149 - val_loss: 1.5399 - val_accuracy: 0.4553 - lr: 0.0010\n",
            "Epoch 8/10\n",
            "49/49 [==============================] - 8s 166ms/step - loss: 1.3573 - accuracy: 0.5263 - val_loss: 1.5156 - val_accuracy: 0.4666 - lr: 0.0010\n",
            "Epoch 9/10\n",
            "49/49 [==============================] - 9s 182ms/step - loss: 1.3248 - accuracy: 0.5393 - val_loss: 1.4955 - val_accuracy: 0.4714 - lr: 0.0010\n",
            "Epoch 10/10\n",
            "49/49 [==============================] - 10s 208ms/step - loss: 1.2931 - accuracy: 0.5490 - val_loss: 1.4768 - val_accuracy: 0.4752 - lr: 0.0010\n"
          ]
        },
        {
          "output_type": "error",
          "ename": "KeyError",
          "evalue": "ignored",
          "traceback": [
            "\u001b[0;31m---------------------------------------------------------------------------\u001b[0m",
            "\u001b[0;31mKeyError\u001b[0m                                  Traceback (most recent call last)",
            "\u001b[0;32m<ipython-input-8-7d23eafdb79c>\u001b[0m in \u001b[0;36m<module>\u001b[0;34m\u001b[0m\n\u001b[1;32m     26\u001b[0m     results[exp_name_tag] = {'train-loss': model.history.history[\"loss\"],\n\u001b[1;32m     27\u001b[0m                              \u001b[0;34m'valid-loss'\u001b[0m\u001b[0;34m:\u001b[0m \u001b[0mmodel\u001b[0m\u001b[0;34m.\u001b[0m\u001b[0mhistory\u001b[0m\u001b[0;34m.\u001b[0m\u001b[0mhistory\u001b[0m\u001b[0;34m[\u001b[0m\u001b[0;34m\"val_loss\"\u001b[0m\u001b[0;34m]\u001b[0m\u001b[0;34m,\u001b[0m\u001b[0;34m\u001b[0m\u001b[0;34m\u001b[0m\u001b[0m\n\u001b[0;32m---> 28\u001b[0;31m                              \u001b[0;34m'train-acc'\u001b[0m\u001b[0;34m:\u001b[0m \u001b[0mmodel\u001b[0m\u001b[0;34m.\u001b[0m\u001b[0mhistory\u001b[0m\u001b[0;34m.\u001b[0m\u001b[0mhistory\u001b[0m\u001b[0;34m[\u001b[0m\u001b[0;34m\"acc\"\u001b[0m\u001b[0;34m]\u001b[0m\u001b[0;34m,\u001b[0m\u001b[0;34m\u001b[0m\u001b[0;34m\u001b[0m\u001b[0m\n\u001b[0m\u001b[1;32m     29\u001b[0m                              'valid-acc': model.history.history[\"val_acc\"]}\n",
            "\u001b[0;31mKeyError\u001b[0m: 'acc'"
          ]
        }
      ],
      "source": [
        "import itertools\n",
        "from keras.callbacks import ReduceLROnPlateau\n",
        "results = {}\n",
        "for i, (optim, reduce_factor, reduce_patient) in enumerate(itertools.product(optimizer_set, reduce_lr_factor, redice_lr_patient)):\n",
        "    print(\"Numbers of exp: %i, reduce_factor: %.2f, reduce_patient: %i\" % (i, reduce_factor, reduce_patient))\n",
        "    model = build_mlp(input_shape=x_train.shape[1:])\n",
        "    model.summary()\n",
        "    model.compile(loss=\"categorical_crossentropy\", metrics=[\"accuracy\"], optimizer=optim)\n",
        "    \n",
        "    reduce_lr = ReduceLROnPlateau(factor=reduce_factor, \n",
        "                                min_lr=1e-12, \n",
        "                                monitor='val_loss', \n",
        "                                patience=reduce_patient, \n",
        "                                verbose=1)\n",
        "    \n",
        "    model.fit(x_train, y_train, \n",
        "              epochs=EPOCHS, \n",
        "              batch_size=BATCH_SIZE, \n",
        "              validation_data=(x_test, y_test), \n",
        "              shuffle=True,\n",
        "              callbacks=[reduce_lr]\n",
        "             )\n",
        "\n",
        "    # Collect results\n",
        "    exp_name_tag = (\"exp-%s\" % (i))\n",
        "    results[exp_name_tag] = {'train-loss': model.history.history[\"loss\"],\n",
        "                             'valid-loss': model.history.history[\"val_loss\"],\n",
        "                             'train-acc': model.history.history[\"accuracy\"],\n",
        "                             'valid-acc': model.history.history[\"val_accuracy\"]}"
      ]
    },
    {
      "cell_type": "code",
      "execution_count": null,
      "metadata": {
        "id": "1JBUL_08otQ5"
      },
      "outputs": [],
      "source": [
        "import matplotlib.pyplot as plt\n",
        "import matplotlib.cm as mplcm\n",
        "import matplotlib.colors as colors\n",
        "%matplotlib inline\n",
        "NUM_COLORS = len(results.keys())\n",
        "\n",
        "cm = plt.get_cmap('gist_rainbow')\n",
        "cNorm  = colors.Normalize(vmin=0, vmax=NUM_COLORS-1)\n",
        "scalarMap = mplcm.ScalarMappable(norm=cNorm, cmap=cm)\n",
        "color_bar = [scalarMap.to_rgba(i) for i in range(NUM_COLORS)]\n",
        "\n",
        "plt.figure(figsize=(8,6))\n",
        "for i, cond in enumerate(results.keys()):\n",
        "    plt.plot(range(len(results[cond]['train-loss'])),results[cond]['train-loss'], '-', label=cond, color=color_bar[i])\n",
        "    plt.plot(range(len(results[cond]['valid-loss'])),results[cond]['valid-loss'], '--', label=cond, color=color_bar[i])\n",
        "plt.title(\"Loss\")\n",
        "plt.legend(loc='center left', bbox_to_anchor=(1, 0.5))\n",
        "plt.show()\n",
        "\n",
        "plt.figure(figsize=(8,6))\n",
        "for i, cond in enumerate(results.keys()):\n",
        "    plt.plot(range(len(results[cond]['train-acc'])),results[cond]['train-acc'], '-', label=cond, color=color_bar[i])\n",
        "    plt.plot(range(len(results[cond]['valid-acc'])),results[cond]['valid-acc'], '--', label=cond, color=color_bar[i])\n",
        "plt.title(\"Accuracy\")\n",
        "plt.legend(loc='center left', bbox_to_anchor=(1, 0.5))\n",
        "plt.show()"
      ]
    }
  ],
  "metadata": {
    "kernelspec": {
      "display_name": "Python 3",
      "language": "python",
      "name": "python3"
    },
    "language_info": {
      "codemirror_mode": {
        "name": "ipython",
        "version": 3
      },
      "file_extension": ".py",
      "mimetype": "text/x-python",
      "name": "python",
      "nbconvert_exporter": "python",
      "pygments_lexer": "ipython3",
      "version": "3.7.5"
    },
    "colab": {
      "name": "Day087_CB_ReduceLR_作業.ipynb",
      "provenance": [],
      "collapsed_sections": []
    }
  },
  "nbformat": 4,
  "nbformat_minor": 0
}