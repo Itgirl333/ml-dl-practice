{
 "cells": [
  {
   "cell_type": "markdown",
   "metadata": {},
   "source": [
    "# 作業重點\n",
    "\n",
    "使用function y=(x+5)² 來練習學習率( leanrning rate ) 調整所造成的影響"
   ]
  },
  {
   "cell_type": "markdown",
   "metadata": {},
   "source": [
    "# 作業目標:\n",
    "    請嘗試使用不同的組合驗證 learning rate 對所需 iteration 的影響\n",
    "    lr = [0.1, 0.0001]\n",
    "    主要驗證 Lr 對於grandient 收斂的速度\n",
    "    "
   ]
  },
  {
   "cell_type": "code",
   "execution_count": 1,
   "metadata": {},
   "outputs": [],
   "source": [
    "import matplotlib.pyplot as plt\n",
    "# cur_x = 3 # The algorithm starts at x=3\n",
    "# lr = 0.0005 # Learning rate\n",
    "# precision = 0.000001 #This tells us when to stop the algorithm\n",
    "# previous_step_size = 1 #\n",
    "# max_iters = 10000 # maximum number of iterations\n",
    "# iters = 0 #iteration counter\n",
    "# df = lambda x: 2*(x+5) #Gradient of our function \n",
    "\n",
    "# iters_history = [iters]\n",
    "# x_history = [cur_x]"
   ]
  },
  {
   "cell_type": "code",
   "execution_count": 6,
   "metadata": {
    "scrolled": true
   },
   "outputs": [],
   "source": [
    "'''\n",
    "需要執行初始值設定, 下列三個\n",
    "# Learning rate\n",
    "#iteration counter\n",
    "#Step size  \n",
    "'''\n",
    "def iterate(lr):\n",
    "    cur_x = 3 # The algorithm starts at x=3\n",
    "    precision = 0.000001 #This tells us when to stop the algorithm\n",
    "    previous_step_size = 1 #\n",
    "    max_iters = 10000 # maximum number of iterations\n",
    "    iters = 0 #iteration counter\n",
    "    df = lambda x: 2*(x+5) #Gradient of our function \n",
    "    iters_history = [iters]\n",
    "    x_history = [cur_x]\n",
    "    while previous_step_size > precision and iters < max_iters:\n",
    "        new_x = cur_x - lr * df(cur_x)\n",
    "        previous_step_size = abs(new_x - cur_x)\n",
    "        cur_x = new_x\n",
    "        iters += 1\n",
    "    #     print(\"the learning rate is\",lr, \"\\nIteration\",iters,\"\\nX value is\",cur_x) #Print iterations\n",
    "        iters_history.append(iters)\n",
    "        x_history.append(cur_x)\n",
    "    print(\"the learning rate is:\",lr)\n",
    "    print('total iterations:', iters)\n",
    "    print('final x value:', cur_x)\n",
    "    plt.plot(iters_history, x_history, label = f'learing rate = {lr}')\n",
    "    plt.xlabel('Iteration')\n",
    "    plt.ylabel('X value')\n",
    "    print()"
   ]
  },
  {
   "cell_type": "code",
   "execution_count": 7,
   "metadata": {},
   "outputs": [
    {
     "name": "stdout",
     "output_type": "stream",
     "text": [
      "the learning rate is: 0.001\n",
      "total iterations: 4837\n",
      "final x value: -4.999501668667748\n",
      "\n",
      "the learning rate is: 0.005\n",
      "total iterations: 1125\n",
      "final x value: -4.999901670482245\n",
      "\n",
      "the learning rate is: 0.01\n",
      "total iterations: 595\n",
      "final x value: -4.9999518490318176\n",
      "\n",
      "the learning rate is: 0.03\n",
      "total iterations: 213\n",
      "final x value: -4.9999848879701165\n",
      "\n"
     ]
    },
    {
     "data": {
      "image/png": "[encoded data removed]",
      "text/plain": [
       "<Figure size 432x288 with 1 Axes>"
      ]
     },
     "metadata": {
      "needs_background": "light"
     },
     "output_type": "display_data"
    }
   ],
   "source": [
    "for lr in [0.001, 0.005, 0.01, 0.03]:\n",
    "    iterate(lr)\n",
    "plt.legend()\n",
    "plt.show()"
   ]
  },
  {
   "cell_type": "code",
   "execution_count": null,
   "metadata": {},
   "outputs": [],
   "source": [
    "plt.plot(iters_history, x_history)\n",
    "plt.xlabel('Iteration')\n",
    "plt.ylabel('X value')"
   ]
  }
 ],
 "metadata": {
  "kernelspec": {
   "display_name": "Python 3 (ipykernel)",
   "language": "python",
   "name": "python3"
  },
  "language_info": {
   "codemirror_mode": {
    "name": "ipython",
    "version": 3
   },
   "file_extension": ".py",
   "mimetype": "text/x-python",
   "name": "python",
   "nbconvert_exporter": "python",
   "pygments_lexer": "ipython3",
   "version": "3.9.7"
  }
 },
 "nbformat": 4,
 "nbformat_minor": 2
}
