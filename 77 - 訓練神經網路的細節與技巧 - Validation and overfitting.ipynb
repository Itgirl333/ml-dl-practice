{
  "cells": [
    {
      "cell_type": "markdown",
      "metadata": {
        "id": "biwfIIG4yfiy"
      },
      "source": [
        "## Work\n",
        "1. 請建立自己的deep neural network\n",
        "2. 請將 Epoch 加到 500 個，並觀察 learning curve 的走勢\n",
        "3. 請將 Optimizer 換成 SGD，並觀察 learning curve 的走勢"
      ]
    },
    {
      "cell_type": "code",
      "execution_count": 3,
      "metadata": {
        "id": "G-dJw5WKyfi1"
      },
      "outputs": [],
      "source": [
        "import os\n",
        "import keras\n",
        "import tensorflow\n",
        "\n",
        "# 本作業可以不需使用 GPU, 將 GPU 設定為 \"無\" (若有 GPU 且想開啟，可設為 \"0\")\n",
        "os.environ[\"CUDA_VISIBLE_DEVICES\"] = \"\""
      ]
    },
    {
      "cell_type": "code",
      "execution_count": 4,
      "metadata": {
        "colab": {
          "base_uri": "https://localhost:8080/"
        },
        "id": "vsQHxgtDyfi3",
        "outputId": "9ec272aa-834c-4d91-faff-452925e14719"
      },
      "outputs": [
        {
          "output_type": "stream",
          "name": "stdout",
          "text": [
            "Downloading data from https://www.cs.toronto.edu/~kriz/cifar-10-python.tar.gz\n",
            "170500096/170498071 [==============================] - 4s 0us/step\n",
            "170508288/170498071 [==============================] - 4s 0us/step\n"
          ]
        }
      ],
      "source": [
        "# 從 Keras 的內建功能中，取得 train 與 test 資料集\n",
        "train, test = tensorflow.keras.datasets.cifar10.load_data()"
      ]
    },
    {
      "cell_type": "code",
      "execution_count": 6,
      "metadata": {
        "id": "ZHnJzimDyfi3"
      },
      "outputs": [],
      "source": [
        "# 將 X 與 Y 獨立放進變數\n",
        "x_train, y_train = train\n",
        "x_test, y_test = test\n",
        "# 資料前處理 - 標準化\n",
        "x_train = x_train / 255.\n",
        "x_test = x_test / 255.\n",
        "\n",
        "# 將資料從圖形 (RGB) 轉為向量 (Single Vector)\n",
        "x_train = x_train.reshape((len(x_train), -1))\n",
        "x_test = x_test.reshape((len(x_test), -1))\n",
        "\n",
        "# 將目標轉為 one-hot encoding\n",
        "y_train = keras.utils.np_utils.to_categorical(y_train, num_classes=10)\n",
        "y_test = keras.utils.np_utils.to_categorical(y_test, num_classes=10)"
      ]
    },
    {
      "cell_type": "code",
      "execution_count": 7,
      "metadata": {
        "id": "6VcKmRXPyfi4"
      },
      "outputs": [],
      "source": [
        "# 建立一個有三層隱藏層之神經網路\n",
        "def build_mlp():\n",
        "    input_layer = keras.layers.Input([x_train.shape[-1]])\n",
        "    x = keras.layers.Dense(units=512, activation=\"relu\")(input_layer)\n",
        "    x = keras.layers.Dense(units=256, activation=\"relu\")(x)\n",
        "    x = keras.layers.Dense(units=128, activation=\"relu\")(x)\n",
        "    out = keras.layers.Dense(units=10, activation=\"softmax\")(x)\n",
        "    \n",
        "    model = keras.models.Model(inputs=[input_layer], outputs=[out])\n",
        "    return model\n",
        "\n",
        "model = build_mlp()"
      ]
    },
    {
      "cell_type": "code",
      "execution_count": 9,
      "metadata": {
        "colab": {
          "base_uri": "https://localhost:8080/"
        },
        "id": "IqmU5gE0yfi4",
        "outputId": "8aacb720-5968-46d8-ca51-dbf0812efb9a"
      },
      "outputs": [
        {
          "output_type": "stream",
          "name": "stderr",
          "text": [
            "/usr/local/lib/python3.7/dist-packages/keras/optimizer_v2/gradient_descent.py:102: UserWarning: The `lr` argument is deprecated, use `learning_rate` instead.\n",
            "  super(SGD, self).__init__(name, **kwargs)\n"
          ]
        }
      ],
      "source": [
        "optimizer = tensorflow.keras.optimizers.SGD(lr=0.001)\n",
        "model.compile(loss='categorical_crossentropy', metrics=['accuracy'],optimizer=optimizer)\n",
        "\n",
        "# optimizer = tensorflow.keras.optimizers.Adam(lr=0.001)\n",
        "# model.compile(loss=\"categorical_crossentropy\", metrics=[\"accuracy\"], optimizer=optimizer)"
      ]
    },
    {
      "cell_type": "code",
      "execution_count": 10,
      "metadata": {
        "scrolled": true,
        "colab": {
          "base_uri": "https://localhost:8080/"
        },
        "id": "Exu_nnE1yfi5",
        "outputId": "3d6414db-5773-4c02-ce35-e4d1074a9b99"
      },
      "outputs": [
        {
          "output_type": "stream",
          "name": "stdout",
          "text": [
            "Epoch 1/100\n",
            "196/196 [==============================] - 10s 46ms/step - loss: 2.2590 - accuracy: 0.1562 - val_loss: 2.2024 - val_accuracy: 0.2172\n",
            "Epoch 2/100\n",
            "196/196 [==============================] - 9s 47ms/step - loss: 2.1735 - accuracy: 0.2234 - val_loss: 2.1403 - val_accuracy: 0.2473\n",
            "Epoch 3/100\n",
            "196/196 [==============================] - 8s 41ms/step - loss: 2.1196 - accuracy: 0.2496 - val_loss: 2.0932 - val_accuracy: 0.2708\n",
            "Epoch 4/100\n",
            "196/196 [==============================] - 8s 42ms/step - loss: 2.0771 - accuracy: 0.2685 - val_loss: 2.0548 - val_accuracy: 0.2830\n",
            "Epoch 5/100\n",
            "196/196 [==============================] - 9s 46ms/step - loss: 2.0416 - accuracy: 0.2845 - val_loss: 2.0223 - val_accuracy: 0.2968\n",
            "Epoch 6/100\n",
            "196/196 [==============================] - 8s 42ms/step - loss: 2.0115 - accuracy: 0.2954 - val_loss: 1.9947 - val_accuracy: 0.3064\n",
            "Epoch 7/100\n",
            "196/196 [==============================] - 8s 42ms/step - loss: 1.9857 - accuracy: 0.3048 - val_loss: 1.9718 - val_accuracy: 0.3158\n",
            "Epoch 8/100\n",
            "196/196 [==============================] - 8s 42ms/step - loss: 1.9630 - accuracy: 0.3144 - val_loss: 1.9504 - val_accuracy: 0.3197\n",
            "Epoch 9/100\n",
            "196/196 [==============================] - 8s 42ms/step - loss: 1.9429 - accuracy: 0.3208 - val_loss: 1.9316 - val_accuracy: 0.3298\n",
            "Epoch 10/100\n",
            "196/196 [==============================] - 8s 42ms/step - loss: 1.9255 - accuracy: 0.3274 - val_loss: 1.9160 - val_accuracy: 0.3363\n",
            "Epoch 11/100\n",
            "196/196 [==============================] - 8s 42ms/step - loss: 1.9100 - accuracy: 0.3320 - val_loss: 1.9018 - val_accuracy: 0.3373\n",
            "Epoch 12/100\n",
            "196/196 [==============================] - 8s 42ms/step - loss: 1.8961 - accuracy: 0.3372 - val_loss: 1.8890 - val_accuracy: 0.3386\n",
            "Epoch 13/100\n",
            "196/196 [==============================] - 8s 42ms/step - loss: 1.8833 - accuracy: 0.3420 - val_loss: 1.8768 - val_accuracy: 0.3457\n",
            "Epoch 14/100\n",
            "196/196 [==============================] - 9s 47ms/step - loss: 1.8715 - accuracy: 0.3472 - val_loss: 1.8653 - val_accuracy: 0.3501\n",
            "Epoch 15/100\n",
            "196/196 [==============================] - 8s 42ms/step - loss: 1.8605 - accuracy: 0.3507 - val_loss: 1.8553 - val_accuracy: 0.3555\n",
            "Epoch 16/100\n",
            "196/196 [==============================] - 8s 42ms/step - loss: 1.8505 - accuracy: 0.3542 - val_loss: 1.8458 - val_accuracy: 0.3572\n",
            "Epoch 17/100\n",
            "196/196 [==============================] - 8s 42ms/step - loss: 1.8411 - accuracy: 0.3582 - val_loss: 1.8391 - val_accuracy: 0.3580\n",
            "Epoch 18/100\n",
            "196/196 [==============================] - 8s 42ms/step - loss: 1.8327 - accuracy: 0.3609 - val_loss: 1.8313 - val_accuracy: 0.3606\n",
            "Epoch 19/100\n",
            "196/196 [==============================] - 8s 42ms/step - loss: 1.8247 - accuracy: 0.3647 - val_loss: 1.8226 - val_accuracy: 0.3650\n",
            "Epoch 20/100\n",
            "196/196 [==============================] - 8s 42ms/step - loss: 1.8173 - accuracy: 0.3672 - val_loss: 1.8154 - val_accuracy: 0.3711\n",
            "Epoch 21/100\n",
            "196/196 [==============================] - 8s 42ms/step - loss: 1.8102 - accuracy: 0.3686 - val_loss: 1.8106 - val_accuracy: 0.3679\n",
            "Epoch 22/100\n",
            "196/196 [==============================] - 8s 42ms/step - loss: 1.8034 - accuracy: 0.3715 - val_loss: 1.8033 - val_accuracy: 0.3719\n",
            "Epoch 23/100\n",
            "196/196 [==============================] - 8s 42ms/step - loss: 1.7970 - accuracy: 0.3741 - val_loss: 1.7974 - val_accuracy: 0.3735\n",
            "Epoch 24/100\n",
            "196/196 [==============================] - 9s 48ms/step - loss: 1.7909 - accuracy: 0.3751 - val_loss: 1.7904 - val_accuracy: 0.3771\n",
            "Epoch 25/100\n",
            "196/196 [==============================] - 8s 42ms/step - loss: 1.7851 - accuracy: 0.3779 - val_loss: 1.7845 - val_accuracy: 0.3780\n",
            "Epoch 26/100\n",
            "196/196 [==============================] - 8s 42ms/step - loss: 1.7795 - accuracy: 0.3794 - val_loss: 1.7786 - val_accuracy: 0.3818\n",
            "Epoch 27/100\n",
            "196/196 [==============================] - 8s 41ms/step - loss: 1.7739 - accuracy: 0.3820 - val_loss: 1.7733 - val_accuracy: 0.3830\n",
            "Epoch 28/100\n",
            "196/196 [==============================] - 8s 41ms/step - loss: 1.7685 - accuracy: 0.3843 - val_loss: 1.7703 - val_accuracy: 0.3829\n",
            "Epoch 29/100\n",
            "196/196 [==============================] - 8s 42ms/step - loss: 1.7636 - accuracy: 0.3848 - val_loss: 1.7641 - val_accuracy: 0.3847\n",
            "Epoch 30/100\n",
            "196/196 [==============================] - 8s 42ms/step - loss: 1.7583 - accuracy: 0.3872 - val_loss: 1.7586 - val_accuracy: 0.3889\n",
            "Epoch 31/100\n",
            "196/196 [==============================] - 8s 42ms/step - loss: 1.7535 - accuracy: 0.3886 - val_loss: 1.7541 - val_accuracy: 0.3855\n",
            "Epoch 32/100\n",
            "196/196 [==============================] - 9s 44ms/step - loss: 1.7487 - accuracy: 0.3909 - val_loss: 1.7490 - val_accuracy: 0.3902\n",
            "Epoch 33/100\n",
            "196/196 [==============================] - 12s 63ms/step - loss: 1.7442 - accuracy: 0.3928 - val_loss: 1.7447 - val_accuracy: 0.3932\n",
            "Epoch 34/100\n",
            "196/196 [==============================] - 8s 42ms/step - loss: 1.7394 - accuracy: 0.3934 - val_loss: 1.7414 - val_accuracy: 0.3922\n",
            "Epoch 35/100\n",
            "196/196 [==============================] - 9s 48ms/step - loss: 1.7348 - accuracy: 0.3964 - val_loss: 1.7360 - val_accuracy: 0.3957\n",
            "Epoch 36/100\n",
            "196/196 [==============================] - 8s 42ms/step - loss: 1.7307 - accuracy: 0.3976 - val_loss: 1.7329 - val_accuracy: 0.3956\n",
            "Epoch 37/100\n",
            "196/196 [==============================] - 8s 42ms/step - loss: 1.7265 - accuracy: 0.3983 - val_loss: 1.7270 - val_accuracy: 0.3984\n",
            "Epoch 38/100\n",
            "196/196 [==============================] - 8s 42ms/step - loss: 1.7223 - accuracy: 0.4003 - val_loss: 1.7252 - val_accuracy: 0.3949\n",
            "Epoch 39/100\n",
            "196/196 [==============================] - 8s 42ms/step - loss: 1.7181 - accuracy: 0.4016 - val_loss: 1.7194 - val_accuracy: 0.3984\n",
            "Epoch 40/100\n",
            "196/196 [==============================] - 8s 42ms/step - loss: 1.7142 - accuracy: 0.4033 - val_loss: 1.7178 - val_accuracy: 0.4041\n",
            "Epoch 41/100\n",
            "196/196 [==============================] - 8s 42ms/step - loss: 1.7104 - accuracy: 0.4044 - val_loss: 1.7132 - val_accuracy: 0.4040\n",
            "Epoch 42/100\n",
            "196/196 [==============================] - 8s 42ms/step - loss: 1.7064 - accuracy: 0.4059 - val_loss: 1.7091 - val_accuracy: 0.4025\n",
            "Epoch 43/100\n",
            "196/196 [==============================] - 8s 42ms/step - loss: 1.7026 - accuracy: 0.4070 - val_loss: 1.7047 - val_accuracy: 0.4049\n",
            "Epoch 44/100\n",
            "196/196 [==============================] - 8s 42ms/step - loss: 1.6990 - accuracy: 0.4086 - val_loss: 1.7011 - val_accuracy: 0.4063\n",
            "Epoch 45/100\n",
            "196/196 [==============================] - 9s 48ms/step - loss: 1.6954 - accuracy: 0.4100 - val_loss: 1.6982 - val_accuracy: 0.4059\n",
            "Epoch 46/100\n",
            "196/196 [==============================] - 9s 48ms/step - loss: 1.6919 - accuracy: 0.4120 - val_loss: 1.6958 - val_accuracy: 0.4094\n",
            "Epoch 47/100\n",
            "196/196 [==============================] - 8s 42ms/step - loss: 1.6885 - accuracy: 0.4132 - val_loss: 1.6914 - val_accuracy: 0.4091\n",
            "Epoch 48/100\n",
            "196/196 [==============================] - 8s 42ms/step - loss: 1.6848 - accuracy: 0.4139 - val_loss: 1.6879 - val_accuracy: 0.4124\n",
            "Epoch 49/100\n",
            "196/196 [==============================] - 8s 42ms/step - loss: 1.6815 - accuracy: 0.4149 - val_loss: 1.6852 - val_accuracy: 0.4133\n",
            "Epoch 50/100\n",
            "196/196 [==============================] - 8s 42ms/step - loss: 1.6782 - accuracy: 0.4157 - val_loss: 1.6836 - val_accuracy: 0.4124\n",
            "Epoch 51/100\n",
            "196/196 [==============================] - 8s 42ms/step - loss: 1.6745 - accuracy: 0.4173 - val_loss: 1.6836 - val_accuracy: 0.4118\n",
            "Epoch 52/100\n",
            "196/196 [==============================] - 8s 42ms/step - loss: 1.6714 - accuracy: 0.4181 - val_loss: 1.6758 - val_accuracy: 0.4176\n",
            "Epoch 53/100\n",
            "196/196 [==============================] - 8s 42ms/step - loss: 1.6682 - accuracy: 0.4207 - val_loss: 1.6755 - val_accuracy: 0.4142\n",
            "Epoch 54/100\n",
            "196/196 [==============================] - 8s 42ms/step - loss: 1.6648 - accuracy: 0.4199 - val_loss: 1.6711 - val_accuracy: 0.4190\n",
            "Epoch 55/100\n",
            "196/196 [==============================] - 8s 42ms/step - loss: 1.6616 - accuracy: 0.4212 - val_loss: 1.6689 - val_accuracy: 0.4200\n",
            "Epoch 56/100\n",
            "196/196 [==============================] - 9s 48ms/step - loss: 1.6586 - accuracy: 0.4229 - val_loss: 1.6658 - val_accuracy: 0.4204\n",
            "Epoch 57/100\n",
            "196/196 [==============================] - 8s 42ms/step - loss: 1.6556 - accuracy: 0.4236 - val_loss: 1.6623 - val_accuracy: 0.4217\n",
            "Epoch 58/100\n",
            "196/196 [==============================] - 8s 42ms/step - loss: 1.6525 - accuracy: 0.4238 - val_loss: 1.6589 - val_accuracy: 0.4253\n",
            "Epoch 59/100\n",
            "196/196 [==============================] - 8s 42ms/step - loss: 1.6498 - accuracy: 0.4247 - val_loss: 1.6565 - val_accuracy: 0.4197\n",
            "Epoch 60/100\n",
            "196/196 [==============================] - 8s 42ms/step - loss: 1.6466 - accuracy: 0.4265 - val_loss: 1.6547 - val_accuracy: 0.4255\n",
            "Epoch 61/100\n",
            "196/196 [==============================] - 8s 42ms/step - loss: 1.6439 - accuracy: 0.4265 - val_loss: 1.6518 - val_accuracy: 0.4249\n",
            "Epoch 62/100\n",
            "196/196 [==============================] - 8s 42ms/step - loss: 1.6407 - accuracy: 0.4282 - val_loss: 1.6496 - val_accuracy: 0.4264\n",
            "Epoch 63/100\n",
            "196/196 [==============================] - 8s 42ms/step - loss: 1.6377 - accuracy: 0.4285 - val_loss: 1.6476 - val_accuracy: 0.4256\n",
            "Epoch 64/100\n",
            "196/196 [==============================] - 8s 42ms/step - loss: 1.6350 - accuracy: 0.4308 - val_loss: 1.6432 - val_accuracy: 0.4286\n",
            "Epoch 65/100\n",
            "196/196 [==============================] - 8s 42ms/step - loss: 1.6321 - accuracy: 0.4299 - val_loss: 1.6427 - val_accuracy: 0.4302\n",
            "Epoch 66/100\n",
            "196/196 [==============================] - 8s 41ms/step - loss: 1.6292 - accuracy: 0.4326 - val_loss: 1.6381 - val_accuracy: 0.4294\n",
            "Epoch 67/100\n",
            "196/196 [==============================] - 9s 47ms/step - loss: 1.6264 - accuracy: 0.4324 - val_loss: 1.6356 - val_accuracy: 0.4337\n",
            "Epoch 68/100\n",
            "196/196 [==============================] - 8s 42ms/step - loss: 1.6238 - accuracy: 0.4338 - val_loss: 1.6332 - val_accuracy: 0.4306\n",
            "Epoch 69/100\n",
            "196/196 [==============================] - 8s 42ms/step - loss: 1.6210 - accuracy: 0.4342 - val_loss: 1.6313 - val_accuracy: 0.4330\n",
            "Epoch 70/100\n",
            "196/196 [==============================] - 8s 42ms/step - loss: 1.6183 - accuracy: 0.4349 - val_loss: 1.6287 - val_accuracy: 0.4336\n",
            "Epoch 71/100\n",
            "196/196 [==============================] - 8s 42ms/step - loss: 1.6155 - accuracy: 0.4369 - val_loss: 1.6250 - val_accuracy: 0.4362\n",
            "Epoch 72/100\n",
            "196/196 [==============================] - 8s 42ms/step - loss: 1.6126 - accuracy: 0.4363 - val_loss: 1.6235 - val_accuracy: 0.4354\n",
            "Epoch 73/100\n",
            "196/196 [==============================] - 8s 42ms/step - loss: 1.6101 - accuracy: 0.4381 - val_loss: 1.6246 - val_accuracy: 0.4335\n",
            "Epoch 74/100\n",
            "196/196 [==============================] - 8s 42ms/step - loss: 1.6077 - accuracy: 0.4390 - val_loss: 1.6201 - val_accuracy: 0.4342\n",
            "Epoch 75/100\n",
            "196/196 [==============================] - 8s 42ms/step - loss: 1.6053 - accuracy: 0.4386 - val_loss: 1.6166 - val_accuracy: 0.4358\n",
            "Epoch 76/100\n",
            "196/196 [==============================] - 8s 42ms/step - loss: 1.6026 - accuracy: 0.4409 - val_loss: 1.6147 - val_accuracy: 0.4381\n",
            "Epoch 77/100\n",
            "196/196 [==============================] - 9s 47ms/step - loss: 1.6002 - accuracy: 0.4410 - val_loss: 1.6126 - val_accuracy: 0.4401\n",
            "Epoch 78/100\n",
            "196/196 [==============================] - 8s 42ms/step - loss: 1.5975 - accuracy: 0.4417 - val_loss: 1.6123 - val_accuracy: 0.4417\n",
            "Epoch 79/100\n",
            "196/196 [==============================] - 8s 42ms/step - loss: 1.5950 - accuracy: 0.4434 - val_loss: 1.6121 - val_accuracy: 0.4384\n",
            "Epoch 80/100\n",
            "196/196 [==============================] - 8s 42ms/step - loss: 1.5925 - accuracy: 0.4438 - val_loss: 1.6073 - val_accuracy: 0.4420\n",
            "Epoch 81/100\n",
            "196/196 [==============================] - 8s 42ms/step - loss: 1.5898 - accuracy: 0.4452 - val_loss: 1.6042 - val_accuracy: 0.4423\n",
            "Epoch 82/100\n",
            "196/196 [==============================] - 8s 42ms/step - loss: 1.5874 - accuracy: 0.4453 - val_loss: 1.6025 - val_accuracy: 0.4429\n",
            "Epoch 83/100\n",
            "196/196 [==============================] - 8s 42ms/step - loss: 1.5852 - accuracy: 0.4468 - val_loss: 1.6005 - val_accuracy: 0.4421\n",
            "Epoch 84/100\n",
            "196/196 [==============================] - 8s 42ms/step - loss: 1.5825 - accuracy: 0.4478 - val_loss: 1.5991 - val_accuracy: 0.4416\n",
            "Epoch 85/100\n",
            "196/196 [==============================] - 8s 42ms/step - loss: 1.5806 - accuracy: 0.4481 - val_loss: 1.5951 - val_accuracy: 0.4464\n",
            "Epoch 86/100\n",
            "196/196 [==============================] - 8s 42ms/step - loss: 1.5783 - accuracy: 0.4508 - val_loss: 1.5941 - val_accuracy: 0.4449\n",
            "Epoch 87/100\n",
            "196/196 [==============================] - 8s 42ms/step - loss: 1.5757 - accuracy: 0.4494 - val_loss: 1.5925 - val_accuracy: 0.4458\n",
            "Epoch 88/100\n",
            "196/196 [==============================] - 8s 42ms/step - loss: 1.5734 - accuracy: 0.4514 - val_loss: 1.5904 - val_accuracy: 0.4486\n",
            "Epoch 89/100\n",
            "196/196 [==============================] - 9s 48ms/step - loss: 1.5711 - accuracy: 0.4533 - val_loss: 1.5899 - val_accuracy: 0.4454\n",
            "Epoch 90/100\n",
            "196/196 [==============================] - 8s 42ms/step - loss: 1.5688 - accuracy: 0.4526 - val_loss: 1.5888 - val_accuracy: 0.4495\n",
            "Epoch 91/100\n",
            "196/196 [==============================] - 8s 42ms/step - loss: 1.5668 - accuracy: 0.4529 - val_loss: 1.5868 - val_accuracy: 0.4482\n",
            "Epoch 92/100\n",
            "196/196 [==============================] - 9s 48ms/step - loss: 1.5646 - accuracy: 0.4542 - val_loss: 1.5899 - val_accuracy: 0.4448\n",
            "Epoch 93/100\n",
            "196/196 [==============================] - 8s 42ms/step - loss: 1.5621 - accuracy: 0.4557 - val_loss: 1.5826 - val_accuracy: 0.4505\n",
            "Epoch 94/100\n",
            "196/196 [==============================] - 8s 42ms/step - loss: 1.5598 - accuracy: 0.4565 - val_loss: 1.5800 - val_accuracy: 0.4492\n",
            "Epoch 95/100\n",
            "196/196 [==============================] - 8s 42ms/step - loss: 1.5578 - accuracy: 0.4580 - val_loss: 1.5799 - val_accuracy: 0.4516\n",
            "Epoch 96/100\n",
            "196/196 [==============================] - 8s 42ms/step - loss: 1.5555 - accuracy: 0.4583 - val_loss: 1.5768 - val_accuracy: 0.4524\n",
            "Epoch 97/100\n",
            "196/196 [==============================] - 8s 42ms/step - loss: 1.5534 - accuracy: 0.4584 - val_loss: 1.5728 - val_accuracy: 0.4522\n",
            "Epoch 98/100\n",
            "196/196 [==============================] - 9s 48ms/step - loss: 1.5514 - accuracy: 0.4590 - val_loss: 1.5761 - val_accuracy: 0.4496\n",
            "Epoch 99/100\n",
            "196/196 [==============================] - 8s 42ms/step - loss: 1.5493 - accuracy: 0.4598 - val_loss: 1.5702 - val_accuracy: 0.4556\n",
            "Epoch 100/100\n",
            "196/196 [==============================] - 8s 42ms/step - loss: 1.5474 - accuracy: 0.4603 - val_loss: 1.5669 - val_accuracy: 0.4536\n"
          ]
        },
        {
          "output_type": "execute_result",
          "data": {
            "text/plain": [
              "<keras.callbacks.History at 0x7f008cc1fbd0>"
            ]
          },
          "metadata": {},
          "execution_count": 10
        }
      ],
      "source": [
        "\"\"\"\n",
        "設定要訓練的 Epoch 數\n",
        "\"\"\"\n",
        "model.fit(x_train, y_train, \n",
        "          epochs=100, \n",
        "          batch_size=256, \n",
        "          validation_data=(x_test, y_test), \n",
        "          shuffle=True)"
      ]
    },
    {
      "cell_type": "code",
      "execution_count": 11,
      "metadata": {
        "colab": {
          "base_uri": "https://localhost:8080/",
          "height": 545
        },
        "id": "cXGtttyFyfi5",
        "outputId": "c192771a-8f03-4f9b-e236-17de2fc65856"
      },
      "outputs": [
        {
          "output_type": "display_data",
          "data": {
            "text/plain": [
              "<Figure size 432x288 with 1 Axes>"
            ],
            "image/png": "[encoded data removed]"
          },
          "metadata": {
            "needs_background": "light"
          }
        },
        {
          "output_type": "display_data",
          "data": {
            "text/plain": [
              "<Figure size 432x288 with 1 Axes>"
            ],
            "image/png": "[encoded data removed]"
          },
          "metadata": {
            "needs_background": "light"
          }
        }
      ],
      "source": [
        "import matplotlib.pyplot as plt\n",
        "# 以視覺畫方式檢視訓練過程\n",
        "\n",
        "train_loss = model.history.history[\"loss\"]\n",
        "valid_loss = model.history.history[\"val_loss\"]\n",
        "\n",
        "train_acc = model.history.history[\"accuracy\"]\n",
        "valid_acc = model.history.history[\"val_accuracy\"]\n",
        "\n",
        "plt.plot(range(len(train_loss)), train_loss, label=\"train loss\")\n",
        "plt.plot(range(len(valid_loss)), valid_loss, label=\"valid loss\")\n",
        "plt.legend()\n",
        "plt.title(\"Loss\")\n",
        "plt.show()\n",
        "\n",
        "plt.plot(range(len(train_acc)), train_acc, label=\"train accuracy\")\n",
        "plt.plot(range(len(valid_acc)), valid_acc, label=\"valid accuracy\")\n",
        "plt.legend()\n",
        "plt.title(\"Accuracy\")\n",
        "plt.show()"
      ]
    }
  ],
  "metadata": {
    "kernelspec": {
      "display_name": "Python 3",
      "language": "python",
      "name": "python3"
    },
    "language_info": {
      "codemirror_mode": {
        "name": "ipython",
        "version": 3
      },
      "file_extension": ".py",
      "mimetype": "text/x-python",
      "name": "python",
      "nbconvert_exporter": "python",
      "pygments_lexer": "ipython3",
      "version": "3.7.5"
    },
    "colab": {
      "name": "Day077_overfitting_作業  .ipynb",
      "provenance": [],
      "collapsed_sections": []
    }
  },
  "nbformat": 4,
  "nbformat_minor": 0
}