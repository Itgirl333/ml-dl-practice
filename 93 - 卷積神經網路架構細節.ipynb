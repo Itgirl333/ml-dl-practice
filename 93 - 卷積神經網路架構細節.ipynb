{
  "cells": [
    {
      "cell_type": "markdown",
      "metadata": {
        "id": "00GY6KkrIq7N"
      },
      "source": [
        "# 作業目標:\n",
        "    運用 Keras 模組建構CNN, 了解 CNN 的架構\n",
        "    \n",
        "    "
      ]
    },
    {
      "cell_type": "markdown",
      "metadata": {
        "id": "d2kM3_JnIq7R"
      },
      "source": [
        "# 作業重點\n",
        "(1)嘗試比對 Dense 與 layers.Conv2D 架構NN 的差異\n",
        "\n",
        "(2) 有沒有Pooling layer, 對於參數量的差異\n",
        "\n",
        "注意: input_shape 請勿修改"
      ]
    },
    {
      "cell_type": "code",
      "execution_count": 1,
      "metadata": {
        "colab": {
          "base_uri": "https://localhost:8080/"
        },
        "id": "_RhUCG1-Iq7S",
        "outputId": "6291bee6-3876-43f6-fd16-27af9e51de70"
      },
      "outputs": [
        {
          "output_type": "stream",
          "name": "stdout",
          "text": [
            "2.8.0\n"
          ]
        }
      ],
      "source": [
        "#導入相關模組\n",
        "import keras\n",
        "from keras import layers\n",
        "from keras import models\n",
        "from keras.models import Sequential\n",
        "from keras.layers import Conv2D, Activation, MaxPooling2D, Flatten, Dense\n",
        "\n",
        "#確認keras 版本\n",
        "print(keras.__version__)"
      ]
    },
    {
      "cell_type": "code",
      "execution_count": 7,
      "metadata": {
        "colab": {
          "base_uri": "https://localhost:8080/"
        },
        "id": "aSold_eIIq7U",
        "outputId": "aad7a608-00dd-42f9-b670-8fd8579d3c1d"
      },
      "outputs": [
        {
          "output_type": "stream",
          "name": "stdout",
          "text": [
            "Model: \"sequential_5\"\n",
            "_________________________________________________________________\n",
            " Layer (type)                Output Shape              Param #   \n",
            "=================================================================\n",
            " dense_6 (Dense)             (None, 256)               200960    \n",
            "                                                                 \n",
            " activation_6 (Activation)   (None, 256)               0         \n",
            "                                                                 \n",
            " dense_7 (Dense)             (None, 128)               32896     \n",
            "                                                                 \n",
            " activation_7 (Activation)   (None, 128)               0         \n",
            "                                                                 \n",
            " dense_8 (Dense)             (None, 10)                1290      \n",
            "                                                                 \n",
            " activation_8 (Activation)   (None, 10)                0         \n",
            "                                                                 \n",
            "=================================================================\n",
            "Total params: 235,146\n",
            "Trainable params: 235,146\n",
            "Non-trainable params: 0\n",
            "_________________________________________________________________\n"
          ]
        }
      ],
      "source": [
        "model = Sequential([\n",
        "    Dense(units=256, \n",
        "          input_dim=784, \n",
        "          ),\n",
        "    Activation('relu'),\n",
        "    Dense(units=128),\n",
        "    Activation('relu'),\n",
        "    Dense(units=10),\n",
        "    Activation('softmax'),\n",
        "])\n",
        "\n",
        "model.summary()"
      ]
    },
    {
      "cell_type": "markdown",
      "metadata": {
        "id": "_Qi-Y2SkIq7U"
      },
      "source": [
        "# layers.Conv2D 模型, 用作比對\n",
        "\n",
        "![CNN_Model.png](attachment:CNN_Model.png)\n",
        "\n"
      ]
    },
    {
      "cell_type": "code",
      "execution_count": 5,
      "metadata": {
        "colab": {
          "base_uri": "https://localhost:8080/"
        },
        "id": "6nZ2BvnDIq7V",
        "outputId": "8734f4d1-db65-40d5-caeb-5fcd4f597582"
      },
      "outputs": [
        {
          "output_type": "stream",
          "name": "stdout",
          "text": [
            "Model: \"sequential_3\"\n",
            "_________________________________________________________________\n",
            " Layer (type)                Output Shape              Param #   \n",
            "=================================================================\n",
            " conv2d_4 (Conv2D)           (None, 28, 28, 32)        320       \n",
            "                                                                 \n",
            " max_pooling2d (MaxPooling2D  (None, 14, 14, 32)       0         \n",
            " )                                                               \n",
            "                                                                 \n",
            " conv2d_5 (Conv2D)           (None, 14, 14, 64)        18496     \n",
            "                                                                 \n",
            " max_pooling2d_1 (MaxPooling  (None, 7, 7, 64)         0         \n",
            " 2D)                                                             \n",
            "                                                                 \n",
            " dense_2 (Dense)             (None, 7, 7, 100)         6500      \n",
            "                                                                 \n",
            " activation_2 (Activation)   (None, 7, 7, 100)         0         \n",
            "                                                                 \n",
            " dense_3 (Dense)             (None, 7, 7, 10)          1010      \n",
            "                                                                 \n",
            " activation_3 (Activation)   (None, 7, 7, 10)          0         \n",
            "                                                                 \n",
            "=================================================================\n",
            "Total params: 26,326\n",
            "Trainable params: 26,326\n",
            "Non-trainable params: 0\n",
            "_________________________________________________________________\n"
          ]
        }
      ],
      "source": [
        "\n",
        "#建立一個序列模型\n",
        "model = Sequential()\n",
        "#建立兩個卷績層, 32 個內核, 內核大小 3x3, \n",
        "#輸入影像大小 28x28x1\n",
        "model.add(Conv2D(32, (3, 3), padding='same', input_shape=(28,28,1), activation='relu'))\n",
        "model.add(MaxPooling2D(2,2))\n",
        "model.add(Conv2D(64, (3, 3), padding='same', input_shape=(28,28,1), activation='relu'))\n",
        "model.add(MaxPooling2D(2,2))\n",
        "#建立一個全連接層\n",
        "model.add(Dense(units=100))\n",
        "model.add(Activation('relu'))\n",
        "\n",
        "#建立一個輸出層, 並採用softmax\n",
        "model.add(Dense(units=10))\n",
        "model.add(Activation('softmax'))\n",
        "\n",
        "model.summary()"
      ]
    }
  ],
  "metadata": {
    "kernelspec": {
      "display_name": "Python 3",
      "language": "python",
      "name": "python3"
    },
    "language_info": {
      "codemirror_mode": {
        "name": "ipython",
        "version": 3
      },
      "file_extension": ".py",
      "mimetype": "text/x-python",
      "name": "python",
      "nbconvert_exporter": "python",
      "pygments_lexer": "ipython3",
      "version": "3.6.8"
    },
    "colab": {
      "name": "Day93-CNN_Brief_HW.ipynb",
      "provenance": [],
      "collapsed_sections": []
    }
  },
  "nbformat": 4,
  "nbformat_minor": 0
}