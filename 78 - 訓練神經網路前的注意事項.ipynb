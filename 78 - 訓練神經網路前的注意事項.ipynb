{
  "nbformat": 4,
  "nbformat_minor": 0,
  "metadata": {
    "kernelspec": {
      "display_name": "Python 3",
      "language": "python",
      "name": "python3"
    },
    "language_info": {
      "codemirror_mode": {
        "name": "ipython",
        "version": 3
      },
      "file_extension": ".py",
      "mimetype": "text/x-python",
      "name": "python",
      "nbconvert_exporter": "python",
      "pygments_lexer": "ipython3",
      "version": "3.6.5"
    },
    "colab": {
      "name": "Day078_CheckBeforeTrain_作業.ipynb",
      "provenance": [],
      "collapsed_sections": []
    },
    "accelerator": "GPU",
    "gpuClass": "standard"
  },
  "cells": [
    {
      "cell_type": "markdown",
      "metadata": {
        "id": "auEAuEgT4oXE"
      },
      "source": [
        "## Work\n",
        "1. 請嘗試將 preproc_x 替換成以每筆資料的 min/max 進行標準化至 -1 ~ 1 間，再進行訓練\n",
        "2. 請嘗試將 mlp 疊更深 (e.g 5~10 層)，進行訓練後觀察 learning curve 的走勢\n",
        "3. (optional) 請改用 GPU 進行訓練 (可善用 google colab)，比較使用 CPU 與 GPU 的訓練速度"
      ]
    },
    {
      "cell_type": "code",
      "source": [
        "## 確認硬體資源 (如果你是在 Linux, 若是在 Windows, 請參考 https://blog.csdn.net/idwtwt/article/details/78017565)\n",
        "!nvidia-smi"
      ],
      "metadata": {
        "colab": {
          "base_uri": "https://localhost:8080/"
        },
        "id": "LWw-Vcd6GZQh",
        "outputId": "5dcb6777-acb5-43d5-9d4b-092c083a8d47"
      },
      "execution_count": 1,
      "outputs": [
        {
          "output_type": "stream",
          "name": "stdout",
          "text": [
            "Wed Aug 24 09:07:13 2022       \n",
            "+-----------------------------------------------------------------------------+\n",
            "| NVIDIA-SMI 460.32.03    Driver Version: 460.32.03    CUDA Version: 11.2     |\n",
            "|-------------------------------+----------------------+----------------------+\n",
            "| GPU  Name        Persistence-M| Bus-Id        Disp.A | Volatile Uncorr. ECC |\n",
            "| Fan  Temp  Perf  Pwr:Usage/Cap|         Memory-Usage | GPU-Util  Compute M. |\n",
            "|                               |                      |               MIG M. |\n",
            "|===============================+======================+======================|\n",
            "|   0  Tesla T4            Off  | 00000000:00:04.0 Off |                    0 |\n",
            "| N/A   55C    P8     9W /  70W |      0MiB / 15109MiB |      0%      Default |\n",
            "|                               |                      |                  N/A |\n",
            "+-------------------------------+----------------------+----------------------+\n",
            "                                                                               \n",
            "+-----------------------------------------------------------------------------+\n",
            "| Processes:                                                                  |\n",
            "|  GPU   GI   CI        PID   Type   Process name                  GPU Memory |\n",
            "|        ID   ID                                                   Usage      |\n",
            "|=============================================================================|\n",
            "|  No running processes found                                                 |\n",
            "+-----------------------------------------------------------------------------+\n"
          ]
        }
      ]
    },
    {
      "cell_type": "code",
      "metadata": {
        "id": "L0HSsOA-4oXE"
      },
      "source": [
        "import os\n",
        "from tensorflow import keras\n",
        "from sklearn.preprocessing import MinMaxScaler\n",
        "\n",
        "# 本範例不需使用 GPU, 將 GPU 設定為 \"無\"\n",
        "os.environ[\"CUDA_VISIBLE_DEVICES\"] = \"\""
      ],
      "execution_count": 4,
      "outputs": []
    },
    {
      "cell_type": "code",
      "metadata": {
        "id": "wujF_rVq4oXF",
        "outputId": "e972e752-1def-4ad9-d8f5-d0af896bbde2",
        "colab": {
          "base_uri": "https://localhost:8080/"
        }
      },
      "source": [
        "# 從 Keras 的內建功能中，取得 train 與 test 資料集\n",
        "train, test = keras.datasets.cifar10.load_data()"
      ],
      "execution_count": 3,
      "outputs": [
        {
          "output_type": "stream",
          "name": "stdout",
          "text": [
            "Downloading data from https://www.cs.toronto.edu/~kriz/cifar-10-python.tar.gz\n",
            "170500096/170498071 [==============================] - 15s 0us/step\n",
            "170508288/170498071 [==============================] - 15s 0us/step\n"
          ]
        }
      ]
    },
    {
      "cell_type": "code",
      "metadata": {
        "id": "cv2Wknx_4oXF"
      },
      "source": [
        "## 資料前處理\n",
        "def preproc_x(x, flatten=True):\n",
        "    x = x*2/255-1\n",
        "    if flatten:\n",
        "        x = x.reshape((len(x), -1))\n",
        "    return x\n",
        "\n",
        "def preproc_y(y, num_classes=10):\n",
        "    if y.shape[-1] == 1:\n",
        "        y = keras.utils.to_categorical(y, num_classes)\n",
        "    return y    "
      ],
      "execution_count": 8,
      "outputs": []
    },
    {
      "cell_type": "code",
      "metadata": {
        "id": "zp2WdT4d4oXF"
      },
      "source": [
        "x_train, y_train = train\n",
        "x_test, y_test = test\n",
        "\n",
        "# Preproc the inputs\n",
        "x_train = preproc_x(x_train)\n",
        "x_test = preproc_x(x_test)\n",
        "\n",
        "# Preprc the outputs\n",
        "y_train = preproc_y(y_train)\n",
        "y_test = preproc_y(y_test)"
      ],
      "execution_count": 15,
      "outputs": []
    },
    {
      "cell_type": "code",
      "metadata": {
        "id": "KBj2NiDK4oXF",
        "colab": {
          "base_uri": "https://localhost:8080/"
        },
        "outputId": "be343a85-9a18-4864-c1c2-29abe1c1389e"
      },
      "source": [
        "\"\"\"Code Here\n",
        "建立你的神經網路\n",
        "\"\"\"\n",
        "\n",
        "def build_mlp(input_shape, output_units=10, num_neurons=[512, 256, 128, 64, 32]):\n",
        "    input_layer = keras.layers.Input(input_shape)\n",
        "    \n",
        "    for i, n_units in enumerate(num_neurons):\n",
        "        if i == 0:\n",
        "            x = keras.layers.Dense(units=n_units, activation=\"relu\", name=\"hidden_layer\"+str(i+1))(input_layer)\n",
        "        else:\n",
        "            x = keras.layers.Dense(units=n_units, activation=\"relu\", name=\"hidden_layer\"+str(i+1))(x)\n",
        "    \n",
        "    out = keras.layers.Dense(units=output_units, activation=\"softmax\", name=\"output\")(x)\n",
        "    \n",
        "    model = keras.models.Model(inputs=[input_layer], outputs=[out])\n",
        "    return model\n",
        "\n",
        "model = build_mlp(input_shape=x_train.shape[1:])\n",
        "model.summary()"
      ],
      "execution_count": 16,
      "outputs": [
        {
          "output_type": "stream",
          "name": "stdout",
          "text": [
            "Model: \"model\"\n",
            "_________________________________________________________________\n",
            " Layer (type)                Output Shape              Param #   \n",
            "=================================================================\n",
            " input_1 (InputLayer)        [(None, 3072)]            0         \n",
            "                                                                 \n",
            " hidden_layer1 (Dense)       (None, 512)               1573376   \n",
            "                                                                 \n",
            " hidden_layer2 (Dense)       (None, 256)               131328    \n",
            "                                                                 \n",
            " hidden_layer3 (Dense)       (None, 128)               32896     \n",
            "                                                                 \n",
            " hidden_layer4 (Dense)       (None, 64)                8256      \n",
            "                                                                 \n",
            " hidden_layer5 (Dense)       (None, 32)                2080      \n",
            "                                                                 \n",
            " output (Dense)              (None, 10)                330       \n",
            "                                                                 \n",
            "=================================================================\n",
            "Total params: 1,748,266\n",
            "Trainable params: 1,748,266\n",
            "Non-trainable params: 0\n",
            "_________________________________________________________________\n"
          ]
        }
      ]
    },
    {
      "cell_type": "code",
      "metadata": {
        "id": "uejU37q-4oXF"
      },
      "source": [
        "## 超參數設定\n",
        "LEARNING_RATE = 0.001\n",
        "EPOCHS = 100\n",
        "BATCH_SIZE = 256"
      ],
      "execution_count": 17,
      "outputs": []
    },
    {
      "cell_type": "code",
      "metadata": {
        "id": "FePHihT34oXG",
        "colab": {
          "base_uri": "https://localhost:8080/"
        },
        "outputId": "02acbc77-28f0-405b-d302-b2a1249d13bc"
      },
      "source": [
        "optimizer = keras.optimizers.Adam(lr=LEARNING_RATE)\n",
        "model.compile(loss=\"categorical_crossentropy\", metrics=[\"accuracy\"], optimizer=optimizer)"
      ],
      "execution_count": 18,
      "outputs": [
        {
          "output_type": "stream",
          "name": "stderr",
          "text": [
            "/usr/local/lib/python3.7/dist-packages/keras/optimizer_v2/adam.py:105: UserWarning: The `lr` argument is deprecated, use `learning_rate` instead.\n",
            "  super(Adam, self).__init__(name, **kwargs)\n"
          ]
        }
      ]
    },
    {
      "cell_type": "code",
      "metadata": {
        "id": "LmLgZXCQ4oXG",
        "outputId": "d50156a4-2387-41ef-e6b9-c90e2c34bef0",
        "colab": {
          "base_uri": "https://localhost:8080/"
        }
      },
      "source": [
        "model.fit(x_train, y_train, \n",
        "          epochs=EPOCHS, \n",
        "          batch_size=BATCH_SIZE, \n",
        "          validation_data=(x_test, y_test), \n",
        "          shuffle=True)"
      ],
      "execution_count": 19,
      "outputs": [
        {
          "output_type": "stream",
          "name": "stdout",
          "text": [
            "Epoch 1/100\n",
            "196/196 [==============================] - 10s 48ms/step - loss: 2.2467 - accuracy: 0.1486 - val_loss: 2.2050 - val_accuracy: 0.1744\n",
            "Epoch 2/100\n",
            "196/196 [==============================] - 9s 46ms/step - loss: 2.1613 - accuracy: 0.1983 - val_loss: 2.1283 - val_accuracy: 0.2085\n",
            "Epoch 3/100\n",
            "196/196 [==============================] - 8s 41ms/step - loss: 2.0842 - accuracy: 0.2362 - val_loss: 2.0651 - val_accuracy: 0.2446\n",
            "Epoch 4/100\n",
            "196/196 [==============================] - 8s 41ms/step - loss: 2.0246 - accuracy: 0.2625 - val_loss: 2.0570 - val_accuracy: 0.2489\n",
            "Epoch 5/100\n",
            "196/196 [==============================] - 8s 42ms/step - loss: 1.9778 - accuracy: 0.2835 - val_loss: 2.0080 - val_accuracy: 0.2682\n",
            "Epoch 6/100\n",
            "196/196 [==============================] - 8s 42ms/step - loss: 1.9467 - accuracy: 0.2956 - val_loss: 1.9803 - val_accuracy: 0.2805\n",
            "Epoch 7/100\n",
            "196/196 [==============================] - 8s 41ms/step - loss: 1.9138 - accuracy: 0.3113 - val_loss: 1.9784 - val_accuracy: 0.2822\n",
            "Epoch 8/100\n",
            "196/196 [==============================] - 8s 41ms/step - loss: 1.8805 - accuracy: 0.3237 - val_loss: 1.9824 - val_accuracy: 0.2875\n",
            "Epoch 9/100\n",
            "196/196 [==============================] - 8s 41ms/step - loss: 1.8552 - accuracy: 0.3331 - val_loss: 1.9647 - val_accuracy: 0.2930\n",
            "Epoch 10/100\n",
            "196/196 [==============================] - 8s 42ms/step - loss: 1.8135 - accuracy: 0.3491 - val_loss: 2.0196 - val_accuracy: 0.2796\n",
            "Epoch 11/100\n",
            "196/196 [==============================] - 8s 41ms/step - loss: 1.7929 - accuracy: 0.3595 - val_loss: 2.0076 - val_accuracy: 0.2866\n",
            "Epoch 12/100\n",
            "196/196 [==============================] - 8s 41ms/step - loss: 1.7711 - accuracy: 0.3650 - val_loss: 1.9749 - val_accuracy: 0.3032\n",
            "Epoch 13/100\n",
            "196/196 [==============================] - 9s 47ms/step - loss: 1.7318 - accuracy: 0.3831 - val_loss: 1.9667 - val_accuracy: 0.3010\n",
            "Epoch 14/100\n",
            "196/196 [==============================] - 8s 41ms/step - loss: 1.7045 - accuracy: 0.3911 - val_loss: 2.0090 - val_accuracy: 0.2990\n",
            "Epoch 15/100\n",
            "196/196 [==============================] - 8s 41ms/step - loss: 1.6681 - accuracy: 0.4034 - val_loss: 1.9740 - val_accuracy: 0.3088\n",
            "Epoch 16/100\n",
            "196/196 [==============================] - 8s 41ms/step - loss: 1.6298 - accuracy: 0.4177 - val_loss: 1.9779 - val_accuracy: 0.3088\n",
            "Epoch 17/100\n",
            "196/196 [==============================] - 8s 41ms/step - loss: 1.6022 - accuracy: 0.4274 - val_loss: 2.0225 - val_accuracy: 0.3014\n",
            "Epoch 18/100\n",
            "196/196 [==============================] - 8s 41ms/step - loss: 1.5652 - accuracy: 0.4416 - val_loss: 2.0169 - val_accuracy: 0.3121\n",
            "Epoch 19/100\n",
            "196/196 [==============================] - 8s 41ms/step - loss: 1.5331 - accuracy: 0.4522 - val_loss: 2.0237 - val_accuracy: 0.3093\n",
            "Epoch 20/100\n",
            "196/196 [==============================] - 8s 42ms/step - loss: 1.5000 - accuracy: 0.4652 - val_loss: 2.0371 - val_accuracy: 0.3114\n",
            "Epoch 21/100\n",
            "196/196 [==============================] - 9s 47ms/step - loss: 1.4695 - accuracy: 0.4750 - val_loss: 2.0942 - val_accuracy: 0.3129\n",
            "Epoch 22/100\n",
            "196/196 [==============================] - 8s 41ms/step - loss: 1.4314 - accuracy: 0.4886 - val_loss: 2.1354 - val_accuracy: 0.3065\n",
            "Epoch 23/100\n",
            "196/196 [==============================] - 8s 42ms/step - loss: 1.3890 - accuracy: 0.5034 - val_loss: 2.1438 - val_accuracy: 0.3106\n",
            "Epoch 24/100\n",
            "196/196 [==============================] - 8s 42ms/step - loss: 1.3419 - accuracy: 0.5203 - val_loss: 2.1783 - val_accuracy: 0.3078\n",
            "Epoch 25/100\n",
            "196/196 [==============================] - 8s 41ms/step - loss: 1.3225 - accuracy: 0.5292 - val_loss: 2.1525 - val_accuracy: 0.3131\n",
            "Epoch 26/100\n",
            "196/196 [==============================] - 8s 42ms/step - loss: 1.2889 - accuracy: 0.5386 - val_loss: 2.2781 - val_accuracy: 0.3018\n",
            "Epoch 27/100\n",
            "196/196 [==============================] - 8s 41ms/step - loss: 1.2590 - accuracy: 0.5494 - val_loss: 2.2868 - val_accuracy: 0.3047\n",
            "Epoch 28/100\n",
            "196/196 [==============================] - 8s 42ms/step - loss: 1.2155 - accuracy: 0.5643 - val_loss: 2.3794 - val_accuracy: 0.2987\n",
            "Epoch 29/100\n",
            "196/196 [==============================] - 8s 41ms/step - loss: 1.1826 - accuracy: 0.5779 - val_loss: 2.3556 - val_accuracy: 0.3071\n",
            "Epoch 30/100\n",
            "196/196 [==============================] - 8s 41ms/step - loss: 1.1533 - accuracy: 0.5864 - val_loss: 2.4328 - val_accuracy: 0.3039\n",
            "Epoch 31/100\n",
            "196/196 [==============================] - 8s 41ms/step - loss: 1.1099 - accuracy: 0.6057 - val_loss: 2.4327 - val_accuracy: 0.2970\n",
            "Epoch 32/100\n",
            "196/196 [==============================] - 8s 41ms/step - loss: 1.0877 - accuracy: 0.6107 - val_loss: 2.6533 - val_accuracy: 0.2952\n",
            "Epoch 33/100\n",
            "196/196 [==============================] - 8s 41ms/step - loss: 1.0462 - accuracy: 0.6238 - val_loss: 2.5980 - val_accuracy: 0.2896\n",
            "Epoch 34/100\n",
            "196/196 [==============================] - 8s 43ms/step - loss: 1.0226 - accuracy: 0.6340 - val_loss: 2.5904 - val_accuracy: 0.2974\n",
            "Epoch 35/100\n",
            "196/196 [==============================] - 9s 45ms/step - loss: 1.0098 - accuracy: 0.6389 - val_loss: 2.7684 - val_accuracy: 0.2858\n",
            "Epoch 36/100\n",
            "196/196 [==============================] - 8s 41ms/step - loss: 0.9438 - accuracy: 0.6613 - val_loss: 2.9478 - val_accuracy: 0.2808\n",
            "Epoch 37/100\n",
            "196/196 [==============================] - 8s 42ms/step - loss: 0.9281 - accuracy: 0.6667 - val_loss: 2.9250 - val_accuracy: 0.2894\n",
            "Epoch 38/100\n",
            "196/196 [==============================] - 8s 41ms/step - loss: 0.9125 - accuracy: 0.6732 - val_loss: 2.9463 - val_accuracy: 0.2983\n",
            "Epoch 39/100\n",
            "196/196 [==============================] - 8s 42ms/step - loss: 0.8616 - accuracy: 0.6905 - val_loss: 3.1027 - val_accuracy: 0.2918\n",
            "Epoch 40/100\n",
            "196/196 [==============================] - 8s 41ms/step - loss: 0.8439 - accuracy: 0.6967 - val_loss: 3.0338 - val_accuracy: 0.2968\n",
            "Epoch 41/100\n",
            "196/196 [==============================] - 8s 41ms/step - loss: 0.8225 - accuracy: 0.7044 - val_loss: 3.2968 - val_accuracy: 0.2965\n",
            "Epoch 42/100\n",
            "196/196 [==============================] - 9s 46ms/step - loss: 0.7802 - accuracy: 0.7202 - val_loss: 3.2902 - val_accuracy: 0.2829\n",
            "Epoch 43/100\n",
            "196/196 [==============================] - 8s 41ms/step - loss: 0.7604 - accuracy: 0.7244 - val_loss: 3.4532 - val_accuracy: 0.2779\n",
            "Epoch 44/100\n",
            "196/196 [==============================] - 8s 40ms/step - loss: 0.7275 - accuracy: 0.7397 - val_loss: 3.4326 - val_accuracy: 0.2848\n",
            "Epoch 45/100\n",
            "196/196 [==============================] - 8s 40ms/step - loss: 0.7257 - accuracy: 0.7413 - val_loss: 3.5334 - val_accuracy: 0.2830\n",
            "Epoch 46/100\n",
            "196/196 [==============================] - 8s 40ms/step - loss: 0.7058 - accuracy: 0.7467 - val_loss: 3.6099 - val_accuracy: 0.2866\n",
            "Epoch 47/100\n",
            "196/196 [==============================] - 8s 40ms/step - loss: 0.6655 - accuracy: 0.7616 - val_loss: 3.8697 - val_accuracy: 0.2902\n",
            "Epoch 48/100\n",
            "196/196 [==============================] - 8s 40ms/step - loss: 0.6410 - accuracy: 0.7694 - val_loss: 3.9500 - val_accuracy: 0.2855\n",
            "Epoch 49/100\n",
            "196/196 [==============================] - 9s 46ms/step - loss: 0.6397 - accuracy: 0.7713 - val_loss: 3.9714 - val_accuracy: 0.2919\n",
            "Epoch 50/100\n",
            "196/196 [==============================] - 8s 41ms/step - loss: 0.6145 - accuracy: 0.7808 - val_loss: 4.1950 - val_accuracy: 0.2829\n",
            "Epoch 51/100\n",
            "196/196 [==============================] - 8s 41ms/step - loss: 0.5781 - accuracy: 0.7945 - val_loss: 4.1655 - val_accuracy: 0.2904\n",
            "Epoch 52/100\n",
            "196/196 [==============================] - 8s 40ms/step - loss: 0.5949 - accuracy: 0.7871 - val_loss: 4.1927 - val_accuracy: 0.2890\n",
            "Epoch 53/100\n",
            "196/196 [==============================] - 8s 41ms/step - loss: 0.5514 - accuracy: 0.8042 - val_loss: 4.3886 - val_accuracy: 0.2832\n",
            "Epoch 54/100\n",
            "196/196 [==============================] - 8s 40ms/step - loss: 0.5240 - accuracy: 0.8137 - val_loss: 4.4647 - val_accuracy: 0.2840\n",
            "Epoch 55/100\n",
            "196/196 [==============================] - 8s 40ms/step - loss: 0.5120 - accuracy: 0.8197 - val_loss: 4.5393 - val_accuracy: 0.2774\n",
            "Epoch 56/100\n",
            "196/196 [==============================] - 9s 46ms/step - loss: 0.5071 - accuracy: 0.8207 - val_loss: 4.5771 - val_accuracy: 0.2805\n",
            "Epoch 57/100\n",
            "196/196 [==============================] - 8s 41ms/step - loss: 0.5127 - accuracy: 0.8170 - val_loss: 4.6800 - val_accuracy: 0.2828\n",
            "Epoch 58/100\n",
            "196/196 [==============================] - 8s 41ms/step - loss: 0.4991 - accuracy: 0.8220 - val_loss: 4.6486 - val_accuracy: 0.2815\n",
            "Epoch 59/100\n",
            "196/196 [==============================] - 8s 40ms/step - loss: 0.4481 - accuracy: 0.8409 - val_loss: 4.9580 - val_accuracy: 0.2804\n",
            "Epoch 60/100\n",
            "196/196 [==============================] - 8s 40ms/step - loss: 0.4379 - accuracy: 0.8440 - val_loss: 5.0550 - val_accuracy: 0.2823\n",
            "Epoch 61/100\n",
            "196/196 [==============================] - 8s 40ms/step - loss: 0.4486 - accuracy: 0.8399 - val_loss: 5.2137 - val_accuracy: 0.2804\n",
            "Epoch 62/100\n",
            "196/196 [==============================] - 8s 40ms/step - loss: 0.4670 - accuracy: 0.8340 - val_loss: 5.2389 - val_accuracy: 0.2840\n",
            "Epoch 63/100\n",
            "196/196 [==============================] - 8s 41ms/step - loss: 0.4274 - accuracy: 0.8496 - val_loss: 5.4041 - val_accuracy: 0.2764\n",
            "Epoch 64/100\n",
            "196/196 [==============================] - 9s 46ms/step - loss: 0.4189 - accuracy: 0.8520 - val_loss: 5.3026 - val_accuracy: 0.2818\n",
            "Epoch 65/100\n",
            "196/196 [==============================] - 8s 41ms/step - loss: 0.3912 - accuracy: 0.8638 - val_loss: 5.4388 - val_accuracy: 0.2799\n",
            "Epoch 66/100\n",
            "196/196 [==============================] - 8s 41ms/step - loss: 0.3502 - accuracy: 0.8762 - val_loss: 5.8535 - val_accuracy: 0.2776\n",
            "Epoch 67/100\n",
            "196/196 [==============================] - 8s 41ms/step - loss: 0.3945 - accuracy: 0.8608 - val_loss: 5.6272 - val_accuracy: 0.2777\n",
            "Epoch 68/100\n",
            "196/196 [==============================] - 8s 40ms/step - loss: 0.4172 - accuracy: 0.8539 - val_loss: 5.4226 - val_accuracy: 0.2765\n",
            "Epoch 69/100\n",
            "196/196 [==============================] - 8s 41ms/step - loss: 0.3504 - accuracy: 0.8752 - val_loss: 5.7596 - val_accuracy: 0.2751\n",
            "Epoch 70/100\n",
            "196/196 [==============================] - 8s 41ms/step - loss: 0.3527 - accuracy: 0.8756 - val_loss: 5.9335 - val_accuracy: 0.2895\n",
            "Epoch 71/100\n",
            "196/196 [==============================] - 8s 41ms/step - loss: 0.3489 - accuracy: 0.8778 - val_loss: 5.9185 - val_accuracy: 0.2788\n",
            "Epoch 72/100\n",
            "196/196 [==============================] - 8s 41ms/step - loss: 0.3705 - accuracy: 0.8697 - val_loss: 6.1178 - val_accuracy: 0.2829\n",
            "Epoch 73/100\n",
            "196/196 [==============================] - 8s 40ms/step - loss: 0.3861 - accuracy: 0.8664 - val_loss: 5.7920 - val_accuracy: 0.2728\n",
            "Epoch 74/100\n",
            "196/196 [==============================] - 8s 40ms/step - loss: 0.3075 - accuracy: 0.8930 - val_loss: 6.0065 - val_accuracy: 0.2826\n",
            "Epoch 75/100\n",
            "196/196 [==============================] - 8s 40ms/step - loss: 0.3140 - accuracy: 0.8912 - val_loss: 6.3024 - val_accuracy: 0.2728\n",
            "Epoch 76/100\n",
            "196/196 [==============================] - 8s 40ms/step - loss: 0.3344 - accuracy: 0.8843 - val_loss: 6.2195 - val_accuracy: 0.2751\n",
            "Epoch 77/100\n",
            "196/196 [==============================] - 8s 40ms/step - loss: 0.2798 - accuracy: 0.9038 - val_loss: 6.5462 - val_accuracy: 0.2823\n",
            "Epoch 78/100\n",
            "196/196 [==============================] - 9s 46ms/step - loss: 0.3069 - accuracy: 0.8942 - val_loss: 6.4542 - val_accuracy: 0.2795\n",
            "Epoch 79/100\n",
            "196/196 [==============================] - 8s 40ms/step - loss: 0.3188 - accuracy: 0.8898 - val_loss: 6.4021 - val_accuracy: 0.2738\n",
            "Epoch 80/100\n",
            "196/196 [==============================] - 8s 40ms/step - loss: 0.3285 - accuracy: 0.8847 - val_loss: 6.2540 - val_accuracy: 0.2793\n",
            "Epoch 81/100\n",
            "196/196 [==============================] - 8s 40ms/step - loss: 0.3236 - accuracy: 0.8854 - val_loss: 6.5447 - val_accuracy: 0.2847\n",
            "Epoch 82/100\n",
            "196/196 [==============================] - 8s 40ms/step - loss: 0.2646 - accuracy: 0.9093 - val_loss: 6.7276 - val_accuracy: 0.2736\n",
            "Epoch 83/100\n",
            "196/196 [==============================] - 8s 40ms/step - loss: 0.2468 - accuracy: 0.9160 - val_loss: 6.8715 - val_accuracy: 0.2770\n",
            "Epoch 84/100\n",
            "196/196 [==============================] - 8s 40ms/step - loss: 0.2639 - accuracy: 0.9100 - val_loss: 6.4571 - val_accuracy: 0.2722\n",
            "Epoch 85/100\n",
            "196/196 [==============================] - 8s 40ms/step - loss: 0.3269 - accuracy: 0.8864 - val_loss: 6.7353 - val_accuracy: 0.2773\n",
            "Epoch 86/100\n",
            "196/196 [==============================] - 9s 45ms/step - loss: 0.2664 - accuracy: 0.9087 - val_loss: 6.6503 - val_accuracy: 0.2784\n",
            "Epoch 87/100\n",
            "196/196 [==============================] - 8s 40ms/step - loss: 0.2070 - accuracy: 0.9292 - val_loss: 7.5667 - val_accuracy: 0.2761\n",
            "Epoch 88/100\n",
            "196/196 [==============================] - 8s 39ms/step - loss: 0.2723 - accuracy: 0.9051 - val_loss: 6.6506 - val_accuracy: 0.2716\n",
            "Epoch 89/100\n",
            "196/196 [==============================] - 8s 40ms/step - loss: 0.3227 - accuracy: 0.8898 - val_loss: 6.9401 - val_accuracy: 0.2790\n",
            "Epoch 90/100\n",
            "196/196 [==============================] - 8s 40ms/step - loss: 0.2205 - accuracy: 0.9241 - val_loss: 7.3303 - val_accuracy: 0.2794\n",
            "Epoch 91/100\n",
            "196/196 [==============================] - 8s 40ms/step - loss: 0.2452 - accuracy: 0.9156 - val_loss: 7.2092 - val_accuracy: 0.2794\n",
            "Epoch 92/100\n",
            "196/196 [==============================] - 8s 40ms/step - loss: 0.2130 - accuracy: 0.9282 - val_loss: 7.1192 - val_accuracy: 0.2782\n",
            "Epoch 93/100\n",
            "196/196 [==============================] - 8s 40ms/step - loss: 0.3029 - accuracy: 0.8975 - val_loss: 6.7196 - val_accuracy: 0.2744\n",
            "Epoch 94/100\n",
            "196/196 [==============================] - 8s 40ms/step - loss: 0.1980 - accuracy: 0.9324 - val_loss: 7.2746 - val_accuracy: 0.2823\n",
            "Epoch 95/100\n",
            "196/196 [==============================] - 9s 45ms/step - loss: 0.2567 - accuracy: 0.9115 - val_loss: 7.1612 - val_accuracy: 0.2789\n",
            "Epoch 96/100\n",
            "196/196 [==============================] - 8s 40ms/step - loss: 0.2613 - accuracy: 0.9105 - val_loss: 6.8528 - val_accuracy: 0.2804\n",
            "Epoch 97/100\n",
            "196/196 [==============================] - 8s 40ms/step - loss: 0.2541 - accuracy: 0.9129 - val_loss: 7.0257 - val_accuracy: 0.2772\n",
            "Epoch 98/100\n",
            "196/196 [==============================] - 8s 40ms/step - loss: 0.1882 - accuracy: 0.9350 - val_loss: 7.5156 - val_accuracy: 0.2791\n",
            "Epoch 99/100\n",
            "196/196 [==============================] - 9s 45ms/step - loss: 0.1804 - accuracy: 0.9400 - val_loss: 7.9241 - val_accuracy: 0.2779\n",
            "Epoch 100/100\n",
            "196/196 [==============================] - 8s 40ms/step - loss: 0.3080 - accuracy: 0.8954 - val_loss: 7.1334 - val_accuracy: 0.2752\n"
          ]
        },
        {
          "output_type": "execute_result",
          "data": {
            "text/plain": [
              "<keras.callbacks.History at 0x7fc7dcd65590>"
            ]
          },
          "metadata": {},
          "execution_count": 19
        }
      ]
    },
    {
      "cell_type": "code",
      "metadata": {
        "id": "jThDeFlL4oXG",
        "outputId": "e1283e51-f15f-44f0-d975-be8f1f0ce605",
        "colab": {
          "base_uri": "https://localhost:8080/",
          "height": 545
        }
      },
      "source": [
        "import matplotlib.pyplot as plt\n",
        "\n",
        "\n",
        "train_loss = model.history.history[\"loss\"]\n",
        "valid_loss = model.history.history[\"val_loss\"]\n",
        "\n",
        "train_acc = model.history.history[\"accuracy\"]\n",
        "valid_acc = model.history.history[\"val_accuracy\"]\n",
        "\n",
        "plt.plot(range(len(train_loss)), train_loss, label=\"train loss\")\n",
        "plt.plot(range(len(valid_loss)), valid_loss, label=\"valid loss\")\n",
        "plt.legend()\n",
        "plt.title(\"Loss\")\n",
        "plt.show()\n",
        "\n",
        "plt.plot(range(len(train_acc)), train_acc, label=\"train accuracy\")\n",
        "plt.plot(range(len(valid_acc)), valid_acc, label=\"valid accuracy\")\n",
        "plt.legend()\n",
        "plt.title(\"Accuracy\")\n",
        "plt.show()"
      ],
      "execution_count": 21,
      "outputs": [
        {
          "output_type": "display_data",
          "data": {
            "text/plain": [
              "<Figure size 432x288 with 1 Axes>"
            ],
            "image/png": "[encoded data removed]"
          },
          "metadata": {
            "needs_background": "light"
          }
        },
        {
          "output_type": "display_data",
          "data": {
            "text/plain": [
              "<Figure size 432x288 with 1 Axes>"
            ],
            "image/png": "[encoded data removed]"
          },
          "metadata": {
            "needs_background": "light"
          }
        }
      ]
    }
  ]
}