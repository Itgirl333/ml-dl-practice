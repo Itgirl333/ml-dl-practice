{
 "cells": [
  {
   "cell_type": "markdown",
   "metadata": {
    "id": "f22o5b3FKoNo"
   },
   "source": [
    "# 教學目標:\n",
    "    \n",
    "回顧 CNN 網路"
   ]
  },
  {
   "cell_type": "markdown",
   "metadata": {
    "id": "UvLtesRTKoNp"
   },
   "source": [
    "# 範例說明:\n",
    "    \n",
    "使用 keras 預載的模型\n",
    "\n",
    "使用 keras VGG16 預訓練的權重\n",
    "\n",
    "了解預測後的結果輸出"
   ]
  },
  {
   "cell_type": "markdown",
   "metadata": {
    "id": "KlI4vfODKoNp"
   },
   "source": [
    "# 作業:\n",
    "\n",
    "    回答 Q&A"
   ]
  },
  {
   "cell_type": "code",
   "execution_count": 7,
   "metadata": {
    "colab": {
     "base_uri": "https://localhost:8080/"
    },
    "id": "-ma0IN5lKoNq",
    "outputId": "0fc751ae-3a49-4aaf-a064-6a552c5a76e7"
   },
   "outputs": [
    {
     "name": "stdout",
     "output_type": "stream",
     "text": [
      "Downloading data from https://storage.googleapis.com/tensorflow/keras-applications/vgg16/vgg16_weights_tf_dim_ordering_tf_kernels.h5\n",
      "553467904/553467096 [==============================] - 2s 0us/step\n",
      "553476096/553467096 [==============================] - 2s 0us/step\n",
      "Downloading data from https://storage.googleapis.com/download.tensorflow.org/data/imagenet_class_index.json\n",
      "40960/35363 [==================================] - 0s 0us/step\n",
      "49152/35363 [=========================================] - 0s 0us/step\n"
     ]
    },
    {
     "data": {
      "text/plain": [
       "[[('n02504013', 'Indian_elephant', 0.6213973),\n",
       "  ('n01871265', 'tusker', 0.22770764),\n",
       "  ('n02504458', 'African_elephant', 0.14765055),\n",
       "  ('n01704323', 'triceratops', 0.0032129537),\n",
       "  ('n02074367', 'dugong', 1.0603758e-05)]]"
      ]
     },
     "execution_count": 7,
     "metadata": {},
     "output_type": "execute_result"
    }
   ],
   "source": [
    "from keras.preprocessing import image\n",
    "from tensorflow.keras.applications.vgg16 import VGG16, preprocess_input, decode_predictions\n",
    "import numpy as np\n",
    "\n",
    "#載入預訓練模型\n",
    "model = VGG16(weights='imagenet', include_top=True)\n",
    "\n",
    " # VGG 現存模型要找到一張名為elephant.jpg做處理的預設路徑\n",
    "img_path = 'elephant.jpg'\n",
    "#載入影像\n",
    "img = image.load_img(img_path, target_size=(224, 224))\n",
    "x = image.img_to_array(img)\n",
    "x = np.expand_dims(x, axis=0)\n",
    "x = preprocess_input(x)\n",
    "\n",
    "#執行預測\n",
    "pred = model.predict(x)\n",
    "decode_predictions(pred, top=5)\n",
    "# decode_predictions 輸出5個最高概率：(類別, 語義概念, 預測概率"
   ]
  },
  {
   "cell_type": "markdown",
   "metadata": {
    "id": "wruC2RecKoNq"
   },
   "source": [
    "# 問題:\n",
    "\n",
    "為什麼在CNNs中激活函數選用ReLU，而不用sigmoid或tanh函數？"
   ]
  },
  {
   "cell_type": "code",
   "execution_count": null,
   "metadata": {
    "id": "sF58oDcjKoNq"
   },
   "outputs": [],
   "source": [
    "sigmoid或tanh函數容易梯度消失，且運算費時，Relu 解決梯度消失問題，提升訓練速度，ReLU會使一部分神經元的輸出為0，造成網路的稀疏性，減少了參數的相互依存關系，緩解了過擬合問題"
   ]
  }
 ],
 "metadata": {
  "colab": {
   "collapsed_sections": [],
   "name": "Day105-CNN_HW.ipynb",
   "provenance": []
  },
  "kernelspec": {
   "display_name": "Python 3 (ipykernel)",
   "language": "python",
   "name": "python3"
  },
  "language_info": {
   "codemirror_mode": {
    "name": "ipython",
    "version": 3
   },
   "file_extension": ".py",
   "mimetype": "text/x-python",
   "name": "python",
   "nbconvert_exporter": "python",
   "pygments_lexer": "ipython3",
   "version": "3.9.7"
  }
 },
 "nbformat": 4,
 "nbformat_minor": 1
}
